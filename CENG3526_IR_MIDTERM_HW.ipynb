{
 "cells": [
  {
   "cell_type": "markdown",
   "metadata": {
    "colab_type": "text",
    "id": "ACwXfVcs3By_"
   },
   "source": [
    "# CENG3526 IR MIDTERM HW\n",
    "\n",
    "To use this code, upload the appropirate *.zip file to colab.\n",
    "\n",
    "Example code expects the \"30Columnists.zip\" file be uploded and ready in the GCE backend. \n",
    "\n",
    "To do that, you can also mount your **google drive** and use the datasets from there.\n",
    "\n",
    "Also you can use the **git repo** to download the zip files: \n",
    "\n",
    "https://github.com/dtaner/CENG3526/blob/master/30Columnists.zip\n",
    "\n",
    "or check out (clone) the repo to use datasets.\n",
    "\n",
    "```\n",
    "# Clone the entire repo.\n",
    "!git clone -l -s https://github.com/dtaner/CENG3526.git cloned-repo\n",
    "%cd cloned-repo\n",
    "!ls\n",
    "```\n",
    "\n",
    "# OGUZHAN SAHIN 160709027\n",
    " \n",
    "\n",
    "\n"
   ]
  },
  {
   "cell_type": "markdown",
   "metadata": {},
   "source": [
    "IR System was created. TF-IDF is used for scoring documents."
   ]
  },
  {
   "cell_type": "code",
   "execution_count": 1,
   "metadata": {},
   "outputs": [],
   "source": [
    "import io, os\n",
    "import re as re\n",
    "import zipfile as zipfile\n",
    "import numpy as np\n",
    "import nltk\n",
    "import time\n",
    "def read_file(zipname):   \n",
    "    data = [] \n",
    "    with zipfile.ZipFile(zipname) as z:\n",
    "        for zipinfo in z.infolist():\n",
    "            mytextzip = ''\n",
    "            if zipinfo.filename.endswith('.txt') and re.search('raw_texts', zipinfo.filename):\n",
    "                with z.open(zipinfo) as f:\n",
    "                    textfile = io.TextIOWrapper(f, encoding='cp1254', newline='')\n",
    "                    for line in textfile:\n",
    "                        if len(line.strip()): mytextzip += ' ' + line.strip()   \n",
    "                    data.append(mytextzip)\n",
    "    return data\n",
    "kose_yazilari = read_file('30Columnists.zip')"
   ]
  },
  {
   "cell_type": "code",
   "execution_count": 2,
   "metadata": {},
   "outputs": [],
   "source": [
    "_STOP_WORDS = frozenset([\n",
    "'a', 'about', 'above', 'above', 'across', 'after', 'afterwards', 'again', \n",
    "'against', 'all', 'almost', 'alone', 'along', 'already', 'also','although',\n",
    "'always','am','among', 'amongst', 'amoungst', 'amount',  'an', 'and', 'another',\n",
    "'any','anyhow','anyone','anything','anyway', 'anywhere', 'are', 'around', 'as',\n",
    "'at', 'back','be','became', 'because','become','becomes', 'becoming', 'been', \n",
    "'before', 'beforehand', 'behind', 'being', 'below', 'beside', 'besides', \n",
    "'between', 'beyond', 'bill', 'both', 'bottom','but', 'by', 'call', 'can', \n",
    "'cannot', 'cant', 'co', 'con', 'could', 'couldnt', 'cry', 'de', 'describe', \n",
    "'detail', 'do', 'done', 'down', 'due', 'during', 'each', 'eg', 'eight', \n",
    "'either', 'eleven','else', 'elsewhere', 'empty', 'enough', 'etc', 'even', \n",
    "'ever', 'every', 'everyone', 'everything', 'everywhere', 'except', 'few', \n",
    "'fifteen', 'fify', 'fill', 'find', 'fire', 'first', 'five', 'for', 'former', \n",
    "'formerly', 'forty', 'found', 'four', 'from', 'front', 'full', 'further', 'get',\n",
    "'give', 'go', 'had', 'has', 'hasnt', 'have', 'he', 'hence', 'her', 'here', \n",
    "'hereafter', 'hereby', 'herein', 'hereupon', 'hers', 'herself', 'him', \n",
    "'himself', 'his', 'how', 'however', 'hundred', 'ie', 'if', 'in', 'inc', \n",
    "'indeed', 'interest', 'into', 'is', 'it', 'its', 'itself', 'keep', 'last', \n",
    "'latter', 'latterly', 'least', 'less', 'ltd', 'made', 'many', 'may', 'me', \n",
    "'meanwhile', 'might', 'mill', 'mine', 'more', 'moreover', 'most', 'mostly', \n",
    "'move', 'much', 'must', 'my', 'myself', 'name', 'namely', 'neither', 'never', \n",
    "'nevertheless', 'next', 'nine', 'no', 'nobody', 'none', 'noone', 'nor', 'not', \n",
    "'nothing', 'now', 'nowhere', 'of', 'off', 'often', 'on', 'once', 'one', 'only',\n",
    "'onto', 'or', 'other', 'others', 'otherwise', 'our', 'ours', 'ourselves', 'out',\n",
    "'over', 'own','part', 'per', 'perhaps', 'please', 'put', 'rather', 're', 'same',\n",
    "'see', 'seem', 'seemed', 'seeming', 'seems', 'serious', 'several', 'she', \n",
    "'should', 'show', 'side', 'since', 'sincere', 'six', 'sixty', 'so', 'some', \n",
    "'somehow', 'someone', 'something', 'sometime', 'sometimes', 'somewhere', \n",
    "'still', 'such', 'system', 'take', 'ten', 'than', 'that', 'the', 'their', \n",
    "'them', 'themselves', 'then', 'thence', 'there', 'thereafter', 'thereby', \n",
    "'therefore', 'therein', 'thereupon', 'these', 'they', 'thickv', 'thin', 'third',\n",
    "'this', 'those', 'though', 'three', 'through', 'throughout', 'thru', 'thus', \n",
    "'to', 'together', 'too', 'top', 'toward', 'towards', 'twelve', 'twenty', 'two', \n",
    "'un', 'under', 'until', 'up', 'upon', 'us', 'very', 'via', 'was', 'we', 'well', \n",
    "'were', 'what', 'whatever', 'when', 'whence', 'whenever', 'where', 'whereafter',\n",
    "'whereas', 'whereby', 'wherein', 'whereupon', 'wherever', 'whether', 'which', \n",
    "'while', 'whither', 'who', 'whoever', 'whole', 'whom', 'whose', 'why', 'will', \n",
    "'with', 'within', 'without', 'would', 'yet', 'you', 'your', 'yours', 'yourself',\n",
    "'yourselves', 'the','.',',','?','!'])"
   ]
  },
  {
   "cell_type": "code",
   "execution_count": 3,
   "metadata": {
    "colab": {
     "base_uri": "https://localhost:8080/",
     "height": 55
    },
    "colab_type": "code",
    "id": "WfAaN6Ae3Jpg",
    "outputId": "ad96d482-e279-4c18-d059-df7498d2766b"
   },
   "outputs": [],
   "source": [
    "def get_tokenize(text):       \n",
    "    acronym_each_dot = r\"(?:[a-z]\\.){2,}\"\n",
    "    acronym_end_dot = r\"\\b[a-z]{2,3}\\.\"\n",
    "    suffixes = r\"[a-z]{3,}' ?[a-z]{0,3}\"\n",
    "    numbers = r\"\\d+[.,:\\d]+\"\n",
    "    any_word = r\"[a-z]+\"\n",
    "    punctuations = r\"[a-z]*[.,!?;:]\"\n",
    "    word_regex = \"|\".join([acronym_each_dot,\n",
    "                           acronym_end_dot,\n",
    "                           suffixes,\n",
    "                           numbers,\n",
    "                           any_word,\n",
    "                           punctuations])    \n",
    "    return re.compile(\"%s\"%word_regex, re.I).findall(text)"
   ]
  },
  {
   "cell_type": "code",
   "execution_count": 4,
   "metadata": {},
   "outputs": [],
   "source": [
    "def clean_text(corpus):\n",
    "    stem =nltk.PorterStemmer()\n",
    "    cleaned_words = []   \n",
    "    for text in corpus:\n",
    "        text = text.lower()\n",
    "        text = get_tokenize(text)\n",
    "        text = [y for y in text if not y in _STOP_WORDS]    \n",
    "        text = [stem.stem(word)for word in text]\n",
    "        text =\" \".join(text)\n",
    "        cleaned_words.append(text)         \n",
    "    return cleaned_words\n",
    "cleaned_text = clean_text(kose_yazilari)\n",
    "del(kose_yazilari) # for memory allocation\n"
   ]
  },
  {
   "cell_type": "code",
   "execution_count": 5,
   "metadata": {},
   "outputs": [],
   "source": [
    "def create_word_freq(corpus):\n",
    "    word_freq=dict()\n",
    "    for index,document in enumerate(corpus):\n",
    "        tokens = get_tokenize(document)\n",
    "        for unique_token in tokens:\n",
    "            if unique_token in word_freq.keys():\n",
    "                word_freq[unique_token]+=\":\"+str(index)\n",
    "            else:\n",
    "                word_freq[unique_token]=str(index)\n",
    "    return word_freq\n",
    "word_freq = create_word_freq(cleaned_text)"
   ]
  },
  {
   "cell_type": "code",
   "execution_count": 6,
   "metadata": {},
   "outputs": [],
   "source": [
    "def tfidf_scores(word_freq,query,postingList):\n",
    "    docId_located_query = word_freq[query].split(\":\")\n",
    "    idfScore = len(postingList) / len(docId_located_query) + 1   \n",
    "    tfIdfScoreTotal = dict()\n",
    "    for docId in docId_located_query:\n",
    "        counter = 0\n",
    "        tokens = get_tokenize(postingList[int(docId)])\n",
    "        for token in tokens:\n",
    "            if token == query:\n",
    "                counter +=1\n",
    "        tfscore = counter / len(tokens)\n",
    "        tfIdfScoreTotal[docId] = tfscore * idfScore\n",
    "    return tfIdfScoreTotal"
   ]
  },
  {
   "cell_type": "code",
   "execution_count": 7,
   "metadata": {},
   "outputs": [],
   "source": [
    "def search(word_freq,query,postingList):\n",
    "    query = query.lower()\n",
    "    search_result = dict()\n",
    "    for word in get_tokenize(query):\n",
    "        tfidfscore=tfidf_scores(word_freq,word,postingList)\n",
    "        for j in tfidfscore.keys():\n",
    "                if j in search_result.keys():\n",
    "                    search_result[j] += tfidfscore[j]\n",
    "                else :\n",
    "                    search_result[j] = tfidfscore[j]\n",
    "    search_result = sorted(search_result.items(), key = lambda x:x[1],reverse=True)\n",
    "    return search_result\n"
   ]
  },
  {
   "cell_type": "code",
   "execution_count": 8,
   "metadata": {},
   "outputs": [
    {
     "name": "stdout",
     "output_type": "stream",
     "text": [
      "Search word that you looking for : hey\n",
      "[('974', 0.7003168854685378), ('973', 0.42746615087040624), ('971', 0.3291489361702128), ('997', 0.32589003581209186), ('955', 0.32269503546099293), ('340', 0.227522306108442), ('989', 0.22391084093211752), ('967', 0.22239792984473838), ('958', 0.21797942792729322), ('962', 0.21099290780141844), ('969', 0.20317835566062517), ('990', 0.20317835566062517), ('999', 0.19476268412438624), ('993', 0.17696179363989936), ('970', 0.16708067825899126), ('978', 0.16708067825899126), ('954', 0.15453001698132054), ('982', 0.1476004198072703), ('1031', 0.14694148936170212), ('984', 0.14126563784129303), ('965', 0.14006337709370756), ('968', 0.13657632206232895), ('995', 0.13272134522992451), ('1181', 0.11310960005849237), ('686', 0.09168494043738518), ('31', 0.07912234042553193), ('404', 0.07762946607788036), ('39', 0.07690395704911512), ('1396', 0.07429998559147015), ('1355', 0.07018100984439504), ('626', 0.07003168854685378), ('346', 0.06944070383337822), ('1241', 0.06944070383337822), ('1206', 0.06914893617021277), ('1247', 0.06772611855354173), ('682', 0.06198661698120768), ('232', 0.05898726454663311), ('1390', 0.051110083256244214), ('1357', 0.050251745980185156), ('80', 0.043538219070133964)]\n"
     ]
    }
   ],
   "source": [
    "query = input(\"Search word that you looking for : \")\n",
    "result=search(word_freq,query,cleaned_text)\n",
    "print(result)  "
   ]
  },
  {
   "cell_type": "code",
   "execution_count": null,
   "metadata": {},
   "outputs": [],
   "source": []
  }
 ],
 "metadata": {
  "colab": {
   "collapsed_sections": [
    "L39jrAuH2-j-",
    "ACwXfVcs3By_"
   ],
   "name": "CENG3526-NLP-HW-Template.ipynb",
   "provenance": []
  },
  "kernelspec": {
   "display_name": "Python 3",
   "language": "python",
   "name": "python3"
  },
  "language_info": {
   "codemirror_mode": {
    "name": "ipython",
    "version": 3
   },
   "file_extension": ".py",
   "mimetype": "text/x-python",
   "name": "python",
   "nbconvert_exporter": "python",
   "pygments_lexer": "ipython3",
   "version": "3.7.4"
  }
 },
 "nbformat": 4,
 "nbformat_minor": 1
}
